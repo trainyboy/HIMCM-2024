{
 "cells": [
  {
   "cell_type": "markdown",
   "id": "c91bad17-c2fb-4d5a-98e0-a05572143374",
   "metadata": {},
   "source": [
    "# Import Necessary Libraries"
   ]
  },
  {
   "cell_type": "code",
   "execution_count": null,
   "id": "e14c6f87-a636-41ed-bc3e-b39ec9e220af",
   "metadata": {},
   "outputs": [],
   "source": [
    "# Import necessary libraries\n",
    "import numpy as np\n",
    "import pandas as pd"
   ]
  },
  {
   "cell_type": "markdown",
   "id": "fc9655bb-f4a4-4223-8ca5-ea845f34f915",
   "metadata": {},
   "source": [
    "# Input Data"
   ]
  },
  {
   "cell_type": "code",
   "execution_count": null,
   "id": "a46c7e23-91ea-4d25-90d1-f6e5aba62b61",
   "metadata": {},
   "outputs": [],
   "source": [
    "# Input data: scores for sports projects across different factors\n",
    "data = {\n",
    "    \"Project\": [\n",
    "        \"Swimming\", \"Athletics\", \"Baseball\", \"Softball\", \"Breaking\", \"Cricket\",\n",
    "        \"Cycling-BMX Freestyle\", \"Cycling-Track\", \"Equastrian-Jumping\", \n",
    "        \"Flag Football\", \"Football\", \"Gymnastics-Artistic\", \"Karate\", \n",
    "        \"Lacrosse-Sixes\", \"Rowing-Coastal\", \"Sailing\", \"Skateboarding\", \"Squash\"\n",
    "    ],\n",
    "    \"Safety_Fair_Play\": [\n",
    "        0.955512, 0.71492, 0.882041, 0.859402, 0.930274, 0.894537, 0, 0.935992, \n",
    "        0.992428, 1, 0.654214, 0.882041, 0.36853, 0.974306, 0.95824, 0.930274, \n",
    "        0.22873, 0.989879\n",
    "    ],\n",
    "    \"Gender_Equity\": [\n",
    "        0.915808, 0.974467, 0.75334, 0.75334, 0.971034, 0.889177, 1, 0.995985, \n",
    "        0, 0.831923, 0.870217, 0.990038, 0.952928, 0.790165, 0.990403, 1, 1, 1\n",
    "    ],\n",
    "    \"Sustainability\": [\n",
    "        0.979104, 0.927814, 0.792135, 0.792135, 0.906971, 0.586122, 0.906971, \n",
    "        0.947408, 1, 0.760038, 0.942618, 0.906971, 0.39727, 0.760038, 0.83505, \n",
    "        0.927814, 0.947408, 0\n",
    "    ],\n",
    "    \"Inclusivity\": [\n",
    "        0.980746, 1, 0.237925, 0.205202, 0.168996, 0.128569, 0.187576, 0.416516, \n",
    "        0.526805, 0.387457, 0.281835, 0.533484, 0.635654, 0, 0.416516, 0.620596, \n",
    "        0.281835, 0.576888\n",
    "    ],\n",
    "    \"Relevance_Innovation\": [\n",
    "        1, 0.970803, 0.936475, 0.501708, 0.501708, 0.500208, 0.500208, 0.500208, \n",
    "        0.462349, 0.462349, 0.462349, 0.437075, 0.437075, 0.430832, 0.430832, \n",
    "        0.389422, 0.380112, 0\n",
    "    ],\n",
    "    \"Popularity_Accessibility\": [\n",
    "        0.352256, 1, 0.893789, 0.819074, 0.559057, 0.613357, 0.460371, 0, \n",
    "        0.529881, 0.314157, 0.746338, 0.248543, 0.895118, 0.568817, 0.445993, \n",
    "        0.716348, 0.595276, 0.712141\n",
    "    ]\n",
    "}\n",
    "\n",
    "# Create a DataFrame for the input data\n",
    "df = pd.DataFrame(data)"
   ]
  },
  {
   "cell_type": "markdown",
   "id": "b6435af6-84d4-41a0-b040-1a4e38828a82",
   "metadata": {},
   "source": [
    "# Calculate the Proportion Matrix"
   ]
  },
  {
   "cell_type": "code",
   "execution_count": null,
   "id": "a859d8df-b8fa-4025-a49c-30173767f24f",
   "metadata": {},
   "outputs": [],
   "source": [
    "# Drop the \"Project\" column for calculations\n",
    "factors_df = df.drop(\"Project\", axis=1)\n",
    "\n",
    "# Step 1: Calculate the proportion matrix\n",
    "# Calculate the sum for each column (factor)\n",
    "sum_by_column = factors_df.sum(axis=0)\n",
    "\n",
    "# Divide each score by the sum of its column to get the proportion matrix\n",
    "proportion_matrix = factors_df / sum_by_column\n",
    "\n",
    "# Display the proportion matrix\n",
    "proportion_matrix"
   ]
  },
  {
   "cell_type": "markdown",
   "id": "0850faa5-670a-4469-b4b1-bb555abe853d",
   "metadata": {},
   "source": [
    "# Calculate Information Entropy"
   ]
  },
  {
   "cell_type": "code",
   "execution_count": null,
   "id": "3236f193-3803-4c3b-bb19-ae6c0d9eb3db",
   "metadata": {},
   "outputs": [],
   "source": [
    "# Step 2: Calculate the information entropy for each factor\n",
    "# Normalize entropy using constant k\n",
    "k = 1 / np.log(len(df))  # len(df) is the number of projects\n",
    "\n",
    "# Replace zeros with NaN to avoid log(0)\n",
    "proportion_matrix_replaced = proportion_matrix.replace(0, np.nan)\n",
    "\n",
    "# Calculate entropy for each factor\n",
    "entropy = -k * (proportion_matrix_replaced * np.log(proportion_matrix_replaced)).sum(axis=0)\n",
    "\n",
    "# Display entropy values\n",
    "entropy"
   ]
  },
  {
   "cell_type": "markdown",
   "id": "b7775ff6-6788-49ad-a464-dc72bb24a621",
   "metadata": {},
   "source": [
    "# Calculate Redundancy"
   ]
  },
  {
   "cell_type": "code",
   "execution_count": null,
   "id": "b18720e8-3236-4cfc-8b69-9e52b2bda0f8",
   "metadata": {},
   "outputs": [],
   "source": [
    "# Step 3: Calculate redundancy (information utility) for each factor\n",
    "# Redundancy is defined as 1 - entropy\n",
    "redundancy = 1 - entropy\n",
    "\n",
    "# Display redundancy values\n",
    "redundancy"
   ]
  },
  {
   "cell_type": "markdown",
   "id": "8b14f69c-31ff-494b-870c-8844932eaaf5",
   "metadata": {},
   "source": [
    "# Calculate Weights"
   ]
  },
  {
   "cell_type": "code",
   "execution_count": null,
   "id": "49a9108a-a244-43dc-9cf3-1b7463428043",
   "metadata": {},
   "outputs": [],
   "source": [
    "# Step 4: Calculate the weights for each factor\n",
    "# Normalize redundancy by dividing each by the total redundancy\n",
    "weights = redundancy / redundancy.sum()\n",
    "\n",
    "# Create a DataFrame to display the weights\n",
    "weight_df = pd.DataFrame(weights, columns=[\"Weight\"]).T\n",
    "weight_df.index = [\"Weight\"]\n",
    "\n",
    "# Display the weight of each factor\n",
    "weight_df.T.style.set_caption(\"Weights of Each Factor (Calculated by Entropy Method)\")"
   ]
  },
  {
   "cell_type": "code",
   "execution_count": null,
   "id": "27dc91dd-87ff-4a4c-907b-8cb5ae252203",
   "metadata": {},
   "outputs": [],
   "source": []
  }
 ],
 "metadata": {
  "kernelspec": {
   "display_name": "Python 3 (ipykernel)",
   "language": "python",
   "name": "python3"
  },
  "language_info": {
   "codemirror_mode": {
    "name": "ipython",
    "version": 3
   },
   "file_extension": ".py",
   "mimetype": "text/x-python",
   "name": "python",
   "nbconvert_exporter": "python",
   "pygments_lexer": "ipython3",
   "version": "3.13.0"
  }
 },
 "nbformat": 4,
 "nbformat_minor": 5
}
