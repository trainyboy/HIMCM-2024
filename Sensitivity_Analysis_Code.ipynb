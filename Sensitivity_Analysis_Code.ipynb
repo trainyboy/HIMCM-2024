{
 "cells": [
  {
   "cell_type": "markdown",
   "id": "3baae37d",
   "metadata": {},
   "source": [
    "# Sensitivity Analysis for Olympic Sports Data"
   ]
  },
  {
   "cell_type": "markdown",
   "id": "84bd850e",
   "metadata": {},
   "source": [
    "## 1. Load and Inspect Data"
   ]
  },
  {
   "cell_type": "code",
   "execution_count": null,
   "id": "1fb04f43",
   "metadata": {},
   "outputs": [],
   "source": [
    "# This cell loads the required libraries and Olympic sports data.\n",
    "\n",
    "import pandas as pd\n",
    "import numpy as np\n",
    "import matplotlib.pyplot as plt\n",
    "\n",
    "# Provided data for sports and weights\n",
    "sports_data = {\n",
    "    \"Safety and Fair Play\": [\n",
    "        0.135355, 0.101274, 0.124948, 0.121741, 0.131780, 0.126718, 0.000000,\n",
    "        0.132590, 0.140585, 0.141657, 0.092674, 0.124948, 0.052205, 0.138018,\n",
    "        0.135742, 0.131780, 0.032401, 0.140224\n",
    "    ],\n",
    "    \"Gender Equity\": [\n",
    "        0.022844, 0.024307, 0.018792, 0.018792, 0.024222, 0.022180, 0.024944,\n",
    "        0.024844, 0.000000, 0.020752, 0.021707, 0.024696, 0.023770, 0.019710,\n",
    "        0.024705, 0.024944, 0.024944, 0.024944\n",
    "    ],\n",
    "    \"Sustainability\": [\n",
    "        0.016928, 0.016041, 0.013695, 0.013695, 0.015681, 0.010133, 0.015681,\n",
    "        0.016380, 0.017289, 0.013140, 0.016297, 0.015681, 0.006868, 0.013140,\n",
    "        0.014437, 0.016041, 0.016380, 0.000000\n",
    "    ],\n",
    "    \"Inclusivity\": [\n",
    "        0.044753, 0.045632, 0.010857, 0.009364, 0.007712, 0.005867, 0.008559,\n",
    "        0.019006, 0.024039, 0.017680, 0.012861, 0.024344, 0.029006, 0.000000,\n",
    "        0.019006, 0.028319, 0.012861, 0.026324\n",
    "    ],\n",
    "    \"Relevance & Innovation\": [\n",
    "        0.030042, 0.029165, 0.028134, 0.015072, 0.015072, 0.015027, 0.015027,\n",
    "        0.015027, 0.013890, 0.013890, 0.013890, 0.013131, 0.013131, 0.012943,\n",
    "        0.012943, 0.011699, 0.011419, 0.000000\n",
    "    ],\n",
    "    \"Popularity & Accessibility\": [\n",
    "        0.022685, 0.064399, 0.057559, 0.052747, 0.036003, 0.039500, 0.029647,\n",
    "        0.000000, 0.034124, 0.020231, 0.048063, 0.016006, 0.057645, 0.036631,\n",
    "        0.028721, 0.046132, 0.038335, 0.045861\n",
    "    ],\n",
    "}\n",
    "\n",
    "sports_names = [\n",
    "    \"Swimming\", \"Athletics\", \"Baseball\", \"Softball\", \"Breaking\", \"Cricket\",\n",
    "    \"Cycling-BMX Freestyle\", \"Cycling-Track\", \"Equastrian-Jumping\",\n",
    "    \"Flag Football\", \"Football\", \"Gymnastics-Artistic\", \"Karate\",\n",
    "    \"Lacrosse-Sixes\", \"Rowing-Coastal\", \"Sailing\", \"Skateboarding\", \"Squash\"\n",
    "]\n",
    "\n",
    "sports_df = pd.DataFrame(sports_data, index=sports_names)\n",
    "\n",
    "# Display the first few rows of the data\n",
    "sports_df.head()\n"
   ]
  },
  {
   "cell_type": "markdown",
   "id": "7b773aad",
   "metadata": {},
   "source": [
    "## 2. Normalize the Data"
   ]
  },
  {
   "cell_type": "code",
   "execution_count": null,
   "id": "5fb24d69",
   "metadata": {},
   "outputs": [],
   "source": [
    "\n",
    "# This cell normalizes the data for TOPSIS calculations.\n",
    "\n",
    "# Normalize the data using the Euclidean norm\n",
    "norm_sports_df = sports_df / np.sqrt((sports_df**2).sum())\n",
    "\n",
    "# Display normalized data\n",
    "norm_sports_df.head()\n"
   ]
  },
  {
   "cell_type": "markdown",
   "id": "e3f41803",
   "metadata": {},
   "source": [
    "## 3. Calculate Initial Rankings"
   ]
  },
  {
   "cell_type": "code",
   "execution_count": null,
   "id": "522a6e35",
   "metadata": {},
   "outputs": [],
   "source": [
    "\n",
    "# This cell calculates the initial TOPSIS scores and rankings.\n",
    "\n",
    "weights = {\n",
    "    \"Safety and Fair Play\": 0.502318,\n",
    "    \"Gender Equity\": 0.095285,\n",
    "    \"Sustainability\": 0.060981,\n",
    "    \"Inclusivity\": 0.096594,\n",
    "    \"Relevance & Innovation\": 0.072128,\n",
    "    \"Popularity & Accessibility\": 0.172694,\n",
    "}\n",
    "\n",
    "# Convert weights to a NumPy array\n",
    "weights_array = np.array(list(weights.values()))\n",
    "\n",
    "# Calculate TOPSIS scores\n",
    "scores = norm_sports_df @ weights_array\n",
    "\n",
    "# Rank the sports based on scores\n",
    "sports_df[\"TOPSIS Score\"] = scores\n",
    "sports_df[\"Rank\"] = scores.rank(ascending=False)\n",
    "\n",
    "# Display the sports with their rankings\n",
    "sports_df.sort_values(\"Rank\", inplace=True)\n",
    "sports_df\n"
   ]
  },
  {
   "cell_type": "markdown",
   "id": "b06463c3",
   "metadata": {},
   "source": [
    "## 4. Perform Sensitivity Analysis"
   ]
  },
  {
   "cell_type": "code",
   "execution_count": null,
   "id": "556c1b63",
   "metadata": {},
   "outputs": [],
   "source": [
    "\n",
    "# This cell performs sensitivity analysis by adjusting weights slightly (+/- 10%).\n",
    "\n",
    "adjustments = [-0.1, 0.1]\n",
    "sensitivity_results = []\n",
    "\n",
    "for factor, weight in weights.items():\n",
    "    for adj in adjustments:\n",
    "        # Adjust the current factor's weight\n",
    "        adjusted_weights = weights.copy()\n",
    "        adjusted_weights[factor] = weight * (1 + adj)\n",
    "        \n",
    "        # Normalize weights to ensure their sum equals 1\n",
    "        total_weight = sum(adjusted_weights.values())\n",
    "        normalized_weights = {k: v / total_weight for k, v in adjusted_weights.items()}\n",
    "        \n",
    "        # Recalculate TOPSIS scores with adjusted weights\n",
    "        adjusted_weights_array = np.array(list(normalized_weights.values()))\n",
    "        adjusted_scores = norm_sports_df @ adjusted_weights_array\n",
    "        \n",
    "        # Rank the sports based on adjusted scores\n",
    "        adjusted_rankings = adjusted_scores.argsort()[::-1] + 1\n",
    "        \n",
    "        # Store the results for analysis\n",
    "        sensitivity_results.append({\n",
    "            \"Factor\": factor,\n",
    "            \"Adjustment\": adj,\n",
    "            \"Adjusted Weights\": normalized_weights,\n",
    "            \"Adjusted Rankings\": adjusted_rankings,\n",
    "        })\n",
    "\n",
    "# Convert results into a DataFrame for easier analysis\n",
    "sensitivity_df = pd.DataFrame(sensitivity_results)\n",
    "sensitivity_df\n"
   ]
  },
  {
   "cell_type": "markdown",
   "id": "1b7f1aa4-62c2-48c6-92a8-ba8157e573de",
   "metadata": {},
   "source": [
    "## 5. Heatmap"
   ]
  },
  {
   "cell_type": "code",
   "execution_count": null,
   "id": "a6d3b347-25a6-4e89-9fef-1371e32d366d",
   "metadata": {},
   "outputs": [],
   "source": [
    "# This cell generates a heatmap to visualize the impact of weight adjustments on rankings.\n",
    "\n",
    "import seaborn as sns\n",
    "import matplotlib.pyplot as plt\n",
    "\n",
    "# Extract rankings for each factor adjustment\n",
    "ranking_matrix = []\n",
    "factors = list(weights.keys())\n",
    "for result in sensitivity_results:\n",
    "    rankings = result[\"Adjusted Rankings\"]\n",
    "    ranking_matrix.append(rankings)\n",
    "\n",
    "# Convert the ranking matrix to a DataFrame for visualization\n",
    "ranking_df = pd.DataFrame(\n",
    "    ranking_matrix, \n",
    "    columns=sports_names, \n",
    "    index=[f\"{res['Factor']} ({res['Adjustment']:+.1f})\" for res in sensitivity_results]\n",
    ")\n",
    "\n",
    "# Create the heatmap\n",
    "plt.figure(figsize=(12, 8))\n",
    "sns.heatmap(ranking_df, annot=False, cmap=\"coolwarm\", cbar_kws={'label': 'Ranking'}, linewidths=.5)\n",
    "plt.title(\"Sensitivity Analysis Heatmap: Impact of Weight Adjustments on Rankings\", fontsize=14)\n",
    "plt.xlabel(\"Sports\")\n",
    "plt.ylabel(\"Weight Adjustments\")\n",
    "plt.xticks(rotation=45, ha='right')\n",
    "plt.tight_layout()\n",
    "plt.show()\n"
   ]
  },
  {
   "cell_type": "code",
   "execution_count": null,
   "id": "197c0ed6-ed23-4233-b7b1-9265275a3588",
   "metadata": {},
   "outputs": [],
   "source": []
  }
 ],
 "metadata": {
  "kernelspec": {
   "display_name": "Python 3 (ipykernel)",
   "language": "python",
   "name": "python3"
  },
  "language_info": {
   "codemirror_mode": {
    "name": "ipython",
    "version": 3
   },
   "file_extension": ".py",
   "mimetype": "text/x-python",
   "name": "python",
   "nbconvert_exporter": "python",
   "pygments_lexer": "ipython3",
   "version": "3.13.0"
  }
 },
 "nbformat": 4,
 "nbformat_minor": 5
}
